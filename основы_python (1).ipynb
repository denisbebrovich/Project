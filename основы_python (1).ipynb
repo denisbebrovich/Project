{
  "nbformat": 4,
  "nbformat_minor": 0,
  "metadata": {
    "colab": {
      "provenance": [],
      "history_visible": true
    },
    "kernelspec": {
      "name": "python3",
      "display_name": "Python 3"
    },
    "language_info": {
      "name": "python"
    }
  },
  "cells": [
    {
      "cell_type": "markdown",
      "source": [
        "#Задача 1\n",
        "Написать функцию на вход которой подается строка, состоящая из латинских букв.\n",
        "Функция должна вернуть количество гласных букв (a, e, i, o, u) в этой строке. Написать тесты для кода"
      ],
      "metadata": {
        "id": "M-DGa20PaHnu"
      }
    },
    {
      "cell_type": "code",
      "source": [
        "def vowels_search(string):\n",
        "  counter = 0\n",
        "  for char in string.lower():\n",
        "    if char in ['a', 'e', 'i', 'o', 'u']:\n",
        "      counter += 1\n",
        "  return(counter)\n",
        "test_cases = [\n",
        "    (\"hello\", 2),\n",
        "    (\"world\", 1),\n",
        "    (\"AEIOU\", 5),\n",
        "    (\"Python\", 1),\n",
        "    (\"12345\", 0),\n",
        "    (\"\", 0),\n",
        "    (\"a b c d e\", 2),\n",
        "    (\"@#$%^\", 0),\n",
        "    (\"UuU\", 3)\n",
        "]\n",
        "\n",
        "for i, (input_str, expected) in enumerate(test_cases, 1):\n",
        "    result = vowels_search(input_str)\n",
        "    status = \"OK\" if result == expected else \"FAIL\"\n",
        "    print(f\"Test {i}: {status} (input: '{input_str}', expected: {expected}, got: {result})\")"
      ],
      "metadata": {
        "id": "XvX8X_JJ6PCb",
        "colab": {
          "base_uri": "https://localhost:8080/"
        },
        "outputId": "6a9486db-558f-45c9-d1f9-52c4c3ab591c"
      },
      "execution_count": 12,
      "outputs": [
        {
          "output_type": "stream",
          "name": "stdout",
          "text": [
            "Test 1: OK (input: 'hello', expected: 2, got: 2)\n",
            "Test 2: OK (input: 'world', expected: 1, got: 1)\n",
            "Test 3: OK (input: 'AEIOU', expected: 5, got: 5)\n",
            "Test 4: OK (input: 'Python', expected: 1, got: 1)\n",
            "Test 5: OK (input: '12345', expected: 0, got: 0)\n",
            "Test 6: OK (input: '', expected: 0, got: 0)\n",
            "Test 7: OK (input: 'a b c d e', expected: 2, got: 2)\n",
            "Test 8: OK (input: '@#$%^', expected: 0, got: 0)\n",
            "Test 9: OK (input: 'UuU', expected: 3, got: 3)\n"
          ]
        }
      ]
    },
    {
      "cell_type": "markdown",
      "source": [
        "# Задача 2\n",
        "Написать функцию на вход, которой подается строка. Функция должна вернуть true, если\n",
        "каждый символ в строке встречается только 1 раз, иначе должна вернуть false. Написать тесты для кода"
      ],
      "metadata": {
        "id": "t2ClV_Y0bbr6"
      }
    },
    {
      "cell_type": "code",
      "source": [
        "def duplicates_search(string):\n",
        "  flag = 0\n",
        "  for i in range(len(string)):\n",
        "    for j in range(i+1, len(string)):\n",
        "      if string[i] == string[j]:\n",
        "        flag += 1\n",
        "        break\n",
        "  return flag == 0\n",
        "\n",
        "test_cases = [\n",
        "    (\"abcde\", True),\n",
        "    (\"hello\", False),\n",
        "    (\"12341\", False),\n",
        "    (\"\", True),\n",
        "    (\"a\", True),\n",
        "    (\"aa\", False),\n",
        "    (\"AbA\", False),\n",
        "    (\"!@#$%\", True),\n",
        "    (\"  \", False)\n",
        "]\n",
        "\n",
        "for i, (input_str, expected) in enumerate(test_cases, 1):\n",
        "    result = duplicates_search(input_str)\n",
        "    status = \"OK\" if result == expected else \"FAIL\"\n",
        "    print(f\"Test {i}: {status} (input: '{input_str}', expected: {expected}, got: {result})\")"
      ],
      "metadata": {
        "id": "FppbECao6VIz",
        "colab": {
          "base_uri": "https://localhost:8080/"
        },
        "outputId": "4f224c4d-64ea-4e53-e714-c7e7f983b66b"
      },
      "execution_count": 14,
      "outputs": [
        {
          "output_type": "stream",
          "name": "stdout",
          "text": [
            "Test 1: OK (input: 'abcde', expected: True, got: True)\n",
            "Test 2: OK (input: 'hello', expected: False, got: False)\n",
            "Test 3: OK (input: '12341', expected: False, got: False)\n",
            "Test 4: OK (input: '', expected: True, got: True)\n",
            "Test 5: OK (input: 'a', expected: True, got: True)\n",
            "Test 6: OK (input: 'aa', expected: False, got: False)\n",
            "Test 7: OK (input: 'AbA', expected: False, got: False)\n",
            "Test 8: OK (input: '!@#$%', expected: True, got: True)\n",
            "Test 9: OK (input: '  ', expected: False, got: False)\n"
          ]
        }
      ]
    },
    {
      "cell_type": "markdown",
      "source": [
        "# Задача 3\n",
        "Написать функцию, которая принимает положительное число и возвращает количество\n",
        "бит равных 1 в этом числе. Написать тесты для кода"
      ],
      "metadata": {
        "id": "udRiIK1cdt6E"
      }
    },
    {
      "cell_type": "code",
      "source": [
        "def count_bits(n):\n",
        "    return bin(n).count('1')\n",
        "\n",
        "test_cases = [\n",
        "    (0, 0),\n",
        "    (1, 1),\n",
        "    (2, 1),\n",
        "    (3, 2),\n",
        "    (5, 2),\n",
        "    (7, 3),\n",
        "    (8, 1),\n",
        "    (255, 8),\n",
        "    (1023, 10),\n",
        "    (1024, 1)\n",
        "]\n",
        "\n",
        "for i, (input_num, expected) in enumerate(test_cases, 1):\n",
        "    result = count_bits(input_num)\n",
        "    status = \"OK\" if result == expected else \"FAIL\"\n",
        "    print(f\"Test {i}: {status} (input: {input_num}, expected: {expected}, got: {result})\")"
      ],
      "metadata": {
        "id": "6tkfDJRz6dp_",
        "colab": {
          "base_uri": "https://localhost:8080/"
        },
        "outputId": "04d4ed86-6ee4-4504-d5e5-ca070548edbd"
      },
      "execution_count": 16,
      "outputs": [
        {
          "output_type": "stream",
          "name": "stdout",
          "text": [
            "Test 1: OK (input: 0, expected: 0, got: 0)\n",
            "Test 2: OK (input: 1, expected: 1, got: 1)\n",
            "Test 3: OK (input: 2, expected: 1, got: 1)\n",
            "Test 4: OK (input: 3, expected: 2, got: 2)\n",
            "Test 5: OK (input: 5, expected: 2, got: 2)\n",
            "Test 6: OK (input: 7, expected: 3, got: 3)\n",
            "Test 7: OK (input: 8, expected: 1, got: 1)\n",
            "Test 8: OK (input: 255, expected: 8, got: 8)\n",
            "Test 9: OK (input: 1023, expected: 10, got: 10)\n",
            "Test 10: OK (input: 1024, expected: 1, got: 1)\n"
          ]
        }
      ]
    },
    {
      "cell_type": "markdown",
      "source": [
        "# Задача 4\n",
        "Написать функцию, которая принимает положительное число. Функция должна вернуть то,\n",
        "сколько раз необходимо перемножать цифры числа или результат перемножения, чтобы\n",
        "получилось число состоящее из одной цифры.\n",
        "Например, для входного числа:\n",
        "· 39 функция должна вернуть 3, так как 3 * 9=27 => 2 * 7=14 => 1 * 4=4\n",
        "· 4 функция должна вернуть 0, так как число уже состоит из одной цифры\n",
        "· 999 функция должна вернуть 4, так как 9 * 9 * 9=729 => 7 * 2 * 9=126 => 1 * 2 * 6=12 =>\n",
        "1 * 2=2. Написать тесты для кода"
      ],
      "metadata": {
        "id": "26dDUz-Ae17N"
      }
    },
    {
      "cell_type": "code",
      "source": [
        "def magic(n):\n",
        "    count = 0\n",
        "    while True:\n",
        "        if n < 10:\n",
        "            pass\n",
        "            break\n",
        "        product = 1\n",
        "        for digit in str(n):\n",
        "            product *= int(digit)\n",
        "        n = product\n",
        "        count += 1\n",
        "    return count\n",
        "\n",
        "# Тесты\n",
        "test_cases = [\n",
        "    (39, 3),\n",
        "    (4, 0),\n",
        "    (999, 4),\n",
        "    (25, 2),\n",
        "    (10, 1),\n",
        "    (1, 0),\n",
        "    (123, 1),\n",
        "    (444, 3),\n",
        "    (777, 4),\n",
        "    (9999, 3)\n",
        "]\n",
        "\n",
        "for i, (input_num, expected) in enumerate(test_cases, 1):\n",
        "    result = magic(input_num)\n",
        "    status = \"OK\" if result == expected else \"FAIL\"\n",
        "    print(f\"Test {i}: {status} (input: {input_num}, expected: {expected}, got: {result})\")"
      ],
      "metadata": {
        "id": "BH1A_Mgi6i4G",
        "colab": {
          "base_uri": "https://localhost:8080/"
        },
        "outputId": "d49d1bf3-520c-4ede-c362-17a429f97a2a"
      },
      "execution_count": 17,
      "outputs": [
        {
          "output_type": "stream",
          "name": "stdout",
          "text": [
            "Test 1: OK (input: 39, expected: 3, got: 3)\n",
            "Test 2: OK (input: 4, expected: 0, got: 0)\n",
            "Test 3: OK (input: 999, expected: 4, got: 4)\n",
            "Test 4: OK (input: 25, expected: 2, got: 2)\n",
            "Test 5: OK (input: 10, expected: 1, got: 1)\n",
            "Test 6: OK (input: 1, expected: 0, got: 0)\n",
            "Test 7: OK (input: 123, expected: 1, got: 1)\n",
            "Test 8: OK (input: 444, expected: 3, got: 3)\n",
            "Test 9: OK (input: 777, expected: 4, got: 4)\n",
            "Test 10: OK (input: 9999, expected: 3, got: 3)\n"
          ]
        }
      ]
    },
    {
      "cell_type": "markdown",
      "source": [
        "# Задача 5\n",
        "Написать функцию, которая принимает два целочисленных вектора одинаковой длины и\n",
        "возвращает среднеквадратическое отклонение двух векторов. Написать тесты для кода"
      ],
      "metadata": {
        "id": "0nS-kIa8g8vd"
      }
    },
    {
      "cell_type": "code",
      "source": [
        "def mse(vector1, vector2):\n",
        "    if len(vector1) != len(vector2):\n",
        "        pass\n",
        "        return None\n",
        "\n",
        "    if len(vector1) == 0:\n",
        "        pass\n",
        "        return None\n",
        "\n",
        "    squared_errors = []\n",
        "    for v1, v2 in zip(vector1, vector2):\n",
        "        pass\n",
        "        squared_errors.append((v1 - v2)**2)\n",
        "\n",
        "    mean_squared_error = sum(squared_errors) / len(squared_errors)\n",
        "    pass\n",
        "    return mean_squared_error ** 0.5\n",
        "\n",
        "test_cases = [\n",
        "    ([1, 2, 3], [1, 2, 3], 0.0),\n",
        "    ([1, 2, 3], [2, 3, 4], 1.0),\n",
        "    ([0, 0, 0], [1, 1, 1], 1.0),\n",
        "    ([1.5, 2.5], [1, 2], 0.5),\n",
        "    ([], [], None),\n",
        "    ([1], [], None),\n",
        "    ([], [1], None)\n",
        "]\n",
        "\n",
        "for i, (v1, v2, expected) in enumerate(test_cases, 1):\n",
        "    result = mse(v1, v2)\n",
        "    if expected is None:\n",
        "        status = \"OK\" if result is None else \"FAIL\"\n",
        "    else:\n",
        "        status = \"OK\" if abs(result - expected) < 1e-9 else \"FAIL\"\n",
        "    print(f\"Test {i}: {status} (input: {v1}, {v2}, expected: {expected}, got: {result})\")"
      ],
      "metadata": {
        "id": "8iphx4LM6xbx",
        "colab": {
          "base_uri": "https://localhost:8080/"
        },
        "outputId": "4ffee5f4-a18b-4a61-903c-4e59fa1b444e"
      },
      "execution_count": 20,
      "outputs": [
        {
          "output_type": "stream",
          "name": "stdout",
          "text": [
            "Test 1: OK (input: [1, 2, 3], [1, 2, 3], expected: 0.0, got: 0.0)\n",
            "Test 2: OK (input: [1, 2, 3], [2, 3, 4], expected: 1.0, got: 1.0)\n",
            "Test 3: OK (input: [0, 0, 0], [1, 1, 1], expected: 1.0, got: 1.0)\n",
            "Test 4: OK (input: [1.5, 2.5], [1, 2], expected: 0.5, got: 0.5)\n",
            "Test 5: OK (input: [], [], expected: None, got: None)\n",
            "Test 6: OK (input: [1], [], expected: None, got: None)\n",
            "Test 7: OK (input: [], [1], expected: None, got: None)\n"
          ]
        }
      ]
    },
    {
      "cell_type": "markdown",
      "source": [
        "# Задача 6\n",
        "Написать функцию, принимающая целое положительное число. Функция должна вернуть\n",
        "строку вида “(n1**p1)(n2**p2)…(nk**pk)” представляющая разложение числа на простые\n",
        "множители (если pi == 1, то выводить только ni).\n",
        "Например, для числа 86240 функция должна вернуть “(2**5)(5)(7**2)(11)”. Написать тесты для кода"
      ],
      "metadata": {
        "id": "vpIPKL439zkw"
      }
    },
    {
      "cell_type": "code",
      "source": [
        "def prime_factors(n):\n",
        "    if n == 1:\n",
        "        return \"(1)\"\n",
        "\n",
        "    factors = {}\n",
        "    divisor = 2\n",
        "    while n > 1:\n",
        "        while n % divisor == 0:\n",
        "            factors[divisor] = factors.get(divisor, 0) + 1\n",
        "            n = n // divisor\n",
        "        divisor += 1\n",
        "\n",
        "    result = []\n",
        "    for prime, power in sorted(factors.items()):\n",
        "        if power == 1:\n",
        "            result.append(f\"({prime})\")\n",
        "        else:\n",
        "            result.append(f\"({prime}**{power})\")\n",
        "\n",
        "    return \"\".join(result)\n",
        "\n",
        "# Тесты\n",
        "test_cases = [\n",
        "    (1, \"(1)\"),\n",
        "    (2, \"(2)\"),\n",
        "    (3, \"(3)\"),\n",
        "    (4, \"(2**2)\"),\n",
        "    (6, \"(2)(3)\"),\n",
        "    (8, \"(2**3)\"),\n",
        "    (9, \"(3**2)\"),\n",
        "    (12, \"(2**2)(3)\"),\n",
        "    (86240, \"(2**5)(5)(7**2)(11)\"),\n",
        "    (17, \"(17)\"),\n",
        "    (100, \"(2**2)(5**2)\"),\n",
        "]\n",
        "\n",
        "for i, (input_num, expected) in enumerate(test_cases, 1):\n",
        "    result = prime_factors(input_num)\n",
        "    status = \"OK\" if result == expected else \"FAIL\"\n",
        "    print(f\"Test {i}: {status} (input: {input_num}, expected: {expected}, got: {result})\")"
      ],
      "metadata": {
        "id": "pFebmcZk94Jw",
        "colab": {
          "base_uri": "https://localhost:8080/"
        },
        "outputId": "17552bc7-c2e0-4546-ee9f-16ea661867d4"
      },
      "execution_count": 21,
      "outputs": [
        {
          "output_type": "stream",
          "name": "stdout",
          "text": [
            "Test 1: OK (input: 1, expected: (1), got: (1))\n",
            "Test 2: OK (input: 2, expected: (2), got: (2))\n",
            "Test 3: OK (input: 3, expected: (3), got: (3))\n",
            "Test 4: OK (input: 4, expected: (2**2), got: (2**2))\n",
            "Test 5: OK (input: 6, expected: (2)(3), got: (2)(3))\n",
            "Test 6: OK (input: 8, expected: (2**3), got: (2**3))\n",
            "Test 7: OK (input: 9, expected: (3**2), got: (3**2))\n",
            "Test 8: OK (input: 12, expected: (2**2)(3), got: (2**2)(3))\n",
            "Test 9: OK (input: 86240, expected: (2**5)(5)(7**2)(11), got: (2**5)(5)(7**2)(11))\n",
            "Test 10: OK (input: 17, expected: (17), got: (17))\n",
            "Test 11: OK (input: 100, expected: (2**2)(5**2), got: (2**2)(5**2))\n"
          ]
        }
      ]
    },
    {
      "cell_type": "markdown",
      "source": [
        "# Задача 7\n",
        "Написать функцию, принимающая целое число n, задающее количество кубиков. Функция\n",
        "должна определить, можно ли из данного кол-ва кубиков построить пирамиду, то есть\n",
        "можно ли представить число n как 1^2+2^2+3^2+…+k^2. Если можно, то функция должна\n",
        "вернуть k, иначе строку “It is impossible”. Написать тесты для кода"
      ],
      "metadata": {
        "id": "ps2s0BudX7A2"
      }
    },
    {
      "cell_type": "code",
      "source": [
        "def pyramid(number):\n",
        "    if number < 1:\n",
        "        pass\n",
        "        return \"It is impossible\"\n",
        "\n",
        "    k = 0\n",
        "    total = 0\n",
        "    while True:\n",
        "        pass\n",
        "        k += 1\n",
        "        total += k**2\n",
        "        if total == number:\n",
        "            pass\n",
        "            return k\n",
        "        elif total > number:\n",
        "            pass\n",
        "            return \"It is impossible\"\n",
        "\n",
        "test_cases = [\n",
        "    (1, 1),\n",
        "    (5, 2),\n",
        "    (14, 3),\n",
        "    (30, 4),\n",
        "    (55, 5),\n",
        "    (0, \"It is impossible\"),\n",
        "    (2, \"It is impossible\"),\n",
        "    (4, \"It is impossible\"),\n",
        "    (54, \"It is impossible\"),\n",
        "    (56, \"It is impossible\"),\n",
        "    (-10, \"It is impossible\")\n",
        "]\n",
        "\n",
        "for i, (input_num, expected) in enumerate(test_cases, 1):\n",
        "    result = pyramid(input_num)\n",
        "    status = \"OK\" if result == expected else \"FAIL\"\n",
        "    print(f\"Test {i}: {status} (input: {input_num}, expected: {expected}, got: {result})\")"
      ],
      "metadata": {
        "id": "3YPjEXxhX_YT",
        "colab": {
          "base_uri": "https://localhost:8080/"
        },
        "outputId": "a68e08d9-0a99-401e-f3d8-3b6314152eb7"
      },
      "execution_count": 22,
      "outputs": [
        {
          "output_type": "stream",
          "name": "stdout",
          "text": [
            "Test 1: OK (input: 1, expected: 1, got: 1)\n",
            "Test 2: OK (input: 5, expected: 2, got: 2)\n",
            "Test 3: OK (input: 14, expected: 3, got: 3)\n",
            "Test 4: OK (input: 30, expected: 4, got: 4)\n",
            "Test 5: OK (input: 55, expected: 5, got: 5)\n",
            "Test 6: OK (input: 0, expected: It is impossible, got: It is impossible)\n",
            "Test 7: OK (input: 2, expected: It is impossible, got: It is impossible)\n",
            "Test 8: OK (input: 4, expected: It is impossible, got: It is impossible)\n",
            "Test 9: OK (input: 54, expected: It is impossible, got: It is impossible)\n",
            "Test 10: OK (input: 56, expected: It is impossible, got: It is impossible)\n",
            "Test 11: OK (input: -10, expected: It is impossible, got: It is impossible)\n"
          ]
        }
      ]
    },
    {
      "cell_type": "markdown",
      "source": [
        "# Задача 8\n",
        "Функция принимает на вход положительное число и определяет является ли оно сбалансированным, т.е. сумма цифр до средних равна сумме цифр после. Средними в случае нечетного числа цифр считать одну цифру, в случае четного - две средних. Написать тесты для кода"
      ],
      "metadata": {
        "id": "KeKgmIdAQMEJ"
      }
    },
    {
      "cell_type": "code",
      "source": [
        "def is_balanced(number):\n",
        "    s = str(number)\n",
        "    length = len(s)\n",
        "\n",
        "    if length == 1:\n",
        "        pass  # Однозначное число всегда сбалансировано\n",
        "        return True\n",
        "\n",
        "    if length % 2 == 1:\n",
        "        pass  # Нечетное количество цифр - одна средняя\n",
        "        middle = length // 2\n",
        "        left = s[:middle]\n",
        "        right = s[middle+1:]\n",
        "    else:\n",
        "        pass  # Четное количество - две средних\n",
        "        middle = length // 2\n",
        "        left = s[:middle-1]\n",
        "        right = s[middle+1:]\n",
        "\n",
        "    sum_left = sum(int(d) for d in left)\n",
        "    sum_right = sum(int(d) for d in right)\n",
        "\n",
        "    return sum_left == sum_right\n",
        "\n",
        "# Тесты\n",
        "test_cases = [\n",
        "    (1, True),\n",
        "    (11, True),\n",
        "    (121, True),\n",
        "    (1234, False),\n",
        "    (123321, True),\n",
        "    (12344321, True),\n",
        "    (123454321, True),\n",
        "    (123456, False),\n",
        "    (111222, False),\n",
        "    (112233, False),\n",
        "    (12345, False),\n",
        "    (12345654321, True)\n",
        "]\n",
        "\n",
        "for i, (input_num, expected) in enumerate(test_cases, 1):\n",
        "    result = is_balanced(input_num)\n",
        "    status = \"OK\" if result == expected else \"FAIL\"\n",
        "    print(f\"Test {i}: {status} (input: {input_num}, expected: {expected}, got: {result})\")"
      ],
      "metadata": {
        "id": "gMAAqtqlQrZt",
        "colab": {
          "base_uri": "https://localhost:8080/"
        },
        "outputId": "a650b424-7ab5-4a14-ef73-3459b4f83b43"
      },
      "execution_count": 24,
      "outputs": [
        {
          "output_type": "stream",
          "name": "stdout",
          "text": [
            "Test 1: OK (input: 1, expected: True, got: True)\n",
            "Test 2: OK (input: 11, expected: True, got: True)\n",
            "Test 3: OK (input: 121, expected: True, got: True)\n",
            "Test 4: OK (input: 1234, expected: False, got: False)\n",
            "Test 5: OK (input: 123321, expected: True, got: True)\n",
            "Test 6: OK (input: 12344321, expected: True, got: True)\n",
            "Test 7: OK (input: 123454321, expected: True, got: True)\n",
            "Test 8: OK (input: 123456, expected: False, got: False)\n",
            "Test 9: OK (input: 111222, expected: False, got: False)\n",
            "Test 10: OK (input: 112233, expected: False, got: False)\n",
            "Test 11: OK (input: 12345, expected: False, got: False)\n",
            "Test 12: OK (input: 12345654321, expected: True, got: True)\n"
          ]
        }
      ]
    }
  ]
}