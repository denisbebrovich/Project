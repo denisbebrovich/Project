{
  "nbformat": 4,
  "nbformat_minor": 0,
  "metadata": {
    "colab": {
      "provenance": []
    },
    "kernelspec": {
      "name": "python3",
      "display_name": "Python 3"
    },
    "language_info": {
      "name": "python"
    }
  },
  "cells": [
    {
      "cell_type": "markdown",
      "source": [
        "<h1>Импорт библиотек"
      ],
      "metadata": {
        "id": "vC84e9kzyxPy"
      }
    },
    {
      "cell_type": "code",
      "execution_count": null,
      "metadata": {
        "id": "cgKeNegmQG5S"
      },
      "outputs": [],
      "source": [
        "import numpy as np\n",
        "import matplotlib.pyplot as plt"
      ]
    },
    {
      "cell_type": "markdown",
      "source": [
        "<h1>Задача 1. Дан набор из $p$ матриц размерностью $(n, n)$ и $p$ векторов размерностью $(n, 1)$, найти сумму произведений матриц на векторы. Написать тесты для кода"
      ],
      "metadata": {
        "id": "qFM9uVU2x4Ls"
      }
    },
    {
      "cell_type": "code",
      "source": [
        "def sum_prod(X, V):\n",
        "    if not X or not V:\n",
        "        raise ValueError(\"Списки матриц и векторов не должны быть пустыми\")\n",
        "\n",
        "    n = X[0].shape[0]\n",
        "\n",
        "    for i, (x, v) in enumerate(zip(X, V)):\n",
        "        if x.shape != (n, n):\n",
        "            raise ValueError(f\"Матрица {i} имеет неверную размерность\")\n",
        "        if v.shape != (n, 1):\n",
        "            raise ValueError(f\"Вектор {i} имеет неверную размерность\")\n",
        "\n",
        "    result = np.zeros((n, 1))\n",
        "    for x, v in zip(X, V):\n",
        "        result += x @ v\n",
        "    return result\n",
        "\n",
        "test_cases = [\n",
        "    (\n",
        "        [np.array([[1, 2], [3, 4]])],\n",
        "        [np.array([[1], [2]])],\n",
        "        np.array([[5], [11]])\n",
        "    ),\n",
        "    (\n",
        "        [np.eye(2), np.eye(2)*2],\n",
        "        [np.array([[1], [0]]), np.array([[0], [1]])],\n",
        "        np.array([[1], [2]])\n",
        "    ),\n",
        "    (\n",
        "        [np.array([[1, 0], [0, 1]]), np.array([[2, 0], [0, 2]])],\n",
        "        [np.array([[1], [1]]), np.array([[1], [1]])],\n",
        "        np.array([[3], [3]])\n",
        "    )\n",
        "]\n",
        "\n",
        "for i, (X, V, expected) in enumerate(test_cases, 1):\n",
        "    try:\n",
        "        result = sum_prod(X, V)\n",
        "        if np.array_equal(result, expected):\n",
        "            status = \"OK\"\n",
        "        else:\n",
        "            status = \"FAIL\"\n",
        "        print(f\"Test {i}: {status} (matrix size: {X[0].shape}, vectors: {len(V)}, expected: {expected.flatten()}, got: {result.flatten()})\")\n",
        "    except Exception as e:\n",
        "        print(f\"Test {i}: FAIL (error: {str(e)})\")\n",
        "\n",
        "error_tests = [\n",
        "    ([], [], \"empty\"),\n",
        "    ([np.eye(2)], [np.ones((3, 1))], \"size mismatch\")\n",
        "]\n",
        "\n",
        "for i, (X, V, case) in enumerate(error_tests, len(test_cases)+1):\n",
        "    try:\n",
        "        sum_prod(X, V)\n",
        "        print(f\"Test {i}: FAIL (error case '{case}' should raise exception)\")\n",
        "    except ValueError:\n",
        "        print(f\"Test {i}: OK (error case '{case}' handled correctly)\")\n",
        "    except Exception as e:\n",
        "        print(f\"Test {i}: FAIL (unexpected error: {str(e)})\")"
      ],
      "metadata": {
        "id": "IAbUvEiYyWFF",
        "colab": {
          "base_uri": "https://localhost:8080/"
        },
        "outputId": "d2d8c7ea-0c9e-463f-e279-f15fa9233515"
      },
      "execution_count": null,
      "outputs": [
        {
          "output_type": "stream",
          "name": "stdout",
          "text": [
            "Test 1: OK (matrix size: (2, 2), vectors: 1, expected: [ 5 11], got: [ 5. 11.])\n",
            "Test 2: OK (matrix size: (2, 2), vectors: 2, expected: [1 2], got: [1. 2.])\n",
            "Test 3: OK (matrix size: (2, 2), vectors: 2, expected: [3 3], got: [3. 3.])\n",
            "Test 4: OK (error case 'empty' handled correctly)\n",
            "Test 5: OK (error case 'size mismatch' handled correctly)\n"
          ]
        }
      ]
    },
    {
      "cell_type": "markdown",
      "source": [
        "<h1>Задача 2. Дана матрица M, напишите функцию, которая бинаризует матрицу по некоторому threshold (то есть, все значения большие threshold становятся равными 1, иначе 0). Напишите тесты для кода"
      ],
      "metadata": {
        "id": "TKwPG4fIy2w4"
      }
    },
    {
      "cell_type": "code",
      "source": [
        "def binarize(M, threshold=0.5):\n",
        "    if M.size == 0:\n",
        "        raise ValueError(\"Матрица не должна быть пустой\")\n",
        "    if not isinstance(threshold, (int, float)):\n",
        "        raise TypeError(\"Порог должен быть числом\")\n",
        "\n",
        "    return (M >= threshold).astype(int)\n",
        "\n",
        "test_cases = [\n",
        "    (\n",
        "        np.array([[0.1, 0.6], [0.4, 0.9]]),\n",
        "        0.5,\n",
        "        np.array([[0, 1], [0, 1]])\n",
        "    ),\n",
        "    (\n",
        "        np.array([[0.1, 0.6], [0.4, 0.9]]),\n",
        "        0.0,\n",
        "        np.array([[1, 1], [1, 1]])\n",
        "    ),\n",
        "    (\n",
        "        np.array([[1, 2], [3, 4]]),\n",
        "        2.5,\n",
        "        np.array([[0, 0], [1, 1]])\n",
        "    ),\n",
        "    (\n",
        "        np.array([[0.5, 0.5]]),\n",
        "        0.5,\n",
        "        np.array([[1, 1]])\n",
        "    )\n",
        "]\n",
        "\n",
        "print(\"Основные тесты:\")\n",
        "for i, (M, threshold, expected) in enumerate(test_cases, 1):\n",
        "    try:\n",
        "        result = binarize(M, threshold)\n",
        "        if np.array_equal(result, expected):\n",
        "            status = \"OK\"\n",
        "        else:\n",
        "            status = \"FAIL\"\n",
        "        print(f\"Test {i}: {status} (threshold: {threshold}, expected: {expected.flatten()}, got: {result.flatten()})\")\n",
        "    except Exception as e:\n",
        "        print(f\"Test {i}: FAIL (error: {str(e)})\")\n",
        "\n",
        "print(\"\\nТест с threshold по умолчанию:\")\n",
        "default_test = np.array([[0.4, 0.6]])\n",
        "result_default = binarize(default_test)\n",
        "expected_default = np.array([[0, 1]])\n",
        "print(f\"Result: {'OK' if np.array_equal(result_default, expected_default) else 'FAIL'}\",\n",
        "      f\"(expected: {expected_default.flatten()}, got: {result_default.flatten()})\")\n",
        "\n",
        "error_tests = [\n",
        "    (np.array([]), 0.5, \"empty matrix\"),\n",
        "    (np.array([[1, 2]]), \"not_a_number\", \"invalid threshold type\"),\n",
        "    (np.array([[1, 2], [3, 4]]), None, \"None threshold\")\n",
        "]\n",
        "\n",
        "print(\"\\nТесты на ошибки:\")\n",
        "for i, (M, threshold, description) in enumerate(error_tests, len(test_cases)+1):\n",
        "    try:\n",
        "        binarize(M, threshold)\n",
        "        print(f\"Test {i}: FAIL (case '{description}' should raise exception)\")\n",
        "    except ValueError as e:\n",
        "        print(f\"Test {i}: OK (ValueError caught for '{description}': {str(e)})\")\n",
        "    except TypeError as e:\n",
        "        print(f\"Test {i}: OK (TypeError caught for '{description}': {str(e)})\")\n",
        "    except Exception as e:\n",
        "        print(f\"Test {i}: FAIL (unexpected error for '{description}': {type(e).__name__}: {str(e)})\")"
      ],
      "metadata": {
        "id": "KQDNMgsjRNH7",
        "colab": {
          "base_uri": "https://localhost:8080/"
        },
        "outputId": "44593f3c-0325-4e9b-bc6d-9ef5b335fe1d"
      },
      "execution_count": null,
      "outputs": [
        {
          "output_type": "stream",
          "name": "stdout",
          "text": [
            "Основные тесты:\n",
            "Test 1: OK (threshold: 0.5, expected: [0 1 0 1], got: [0 1 0 1])\n",
            "Test 2: OK (threshold: 0.0, expected: [1 1 1 1], got: [1 1 1 1])\n",
            "Test 3: OK (threshold: 2.5, expected: [0 0 1 1], got: [0 0 1 1])\n",
            "Test 4: OK (threshold: 0.5, expected: [1 1], got: [1 1])\n",
            "\n",
            "Тест с threshold по умолчанию:\n",
            "Result: OK (expected: [0 1], got: [0 1])\n",
            "\n",
            "Тесты на ошибки:\n",
            "Test 5: OK (ValueError caught for 'empty matrix': Матрица не должна быть пустой)\n",
            "Test 6: OK (TypeError caught for 'invalid threshold type': Порог должен быть числом)\n",
            "Test 7: OK (TypeError caught for 'None threshold': Порог должен быть числом)\n"
          ]
        }
      ]
    },
    {
      "cell_type": "markdown",
      "source": [
        "<h1>Задача 3. Напишите функцию, которая возвращает уникальные элементы из каждой строки матрицы. Напишите такую же функцию, но для столбцов. Напишите тесты для кода"
      ],
      "metadata": {
        "id": "IY5L-h-7zWhN"
      }
    },
    {
      "cell_type": "code",
      "source": [
        "def unique_rows(mat):\n",
        "    return [np.unique(row) for row in mat]\n",
        "\n",
        "def unique_columns(mat):\n",
        "    return [np.unique(col) for col in np.array(mat).T]\n",
        "\n",
        "test_cases = [\n",
        "    (\n",
        "        np.array([[1, 2, 3], [4, 5, 5], [1, 1, 2], [3, 3, 3]]),\n",
        "        [\n",
        "            np.array([1, 2, 3]),\n",
        "            np.array([4, 5]),\n",
        "            np.array([1, 2]),\n",
        "            np.array([3])\n",
        "        ],\n",
        "        [\n",
        "            np.array([1, 3, 4]),\n",
        "            np.array([1, 2, 5]),\n",
        "            np.array([2, 3, 5])\n",
        "        ]\n",
        "    ),\n",
        "    (\n",
        "        np.array([[1]]),\n",
        "        [np.array([1])],\n",
        "        [np.array([1])]\n",
        "    ),\n",
        "    (\n",
        "        np.array([[1, 1], [1, 1]]),\n",
        "        [np.array([1]), np.array([1])],\n",
        "        [np.array([1]), np.array([1])]\n",
        "    ),\n",
        "    (\n",
        "        np.array([[1, 2], [3, 4]]),\n",
        "        [np.array([1, 2]), np.array([3, 4])],\n",
        "        [np.array([1, 3]), np.array([2, 4])]\n",
        "    )\n",
        "]\n",
        "\n",
        "print(\"Основные тесты:\")\n",
        "for i, (mat, exp_rows, exp_cols) in enumerate(test_cases, 1):\n",
        "    print(f\"\\nTest {i}: Matrix shape: {mat.shape}\")\n",
        "\n",
        "    row_results = unique_rows(mat)\n",
        "    row_ok = all(np.array_equal(r, e) for r, e in zip(row_results, exp_rows))\n",
        "    print(f\"  Rows: {'OK' if row_ok else 'FAIL'}\")\n",
        "    for j, (res, exp) in enumerate(zip(row_results, exp_rows)):\n",
        "        print(f\"    Row {j}: got {res}, expected {exp}\")\n",
        "\n",
        "    col_results = unique_columns(mat)\n",
        "    col_ok = all(np.array_equal(c, e) for c, e in zip(col_results, exp_cols))\n",
        "    print(f\"  Columns: {'OK' if col_ok else 'FAIL'}\")\n",
        "    for j, (res, exp) in enumerate(zip(col_results, exp_cols)):\n",
        "        print(f\"    Column {j}: got {res}, expected {exp}\")\n",
        "\n",
        "error_tests = [\n",
        "    (np.array([]), \"empty matrix\"),\n",
        "    (\"not_a_matrix\", \"invalid input type\"),\n",
        "    ([[1, 2], [3]], \"ragged array\")\n",
        "]\n",
        "\n",
        "print(\"\\nТесты на ошибки:\")\n",
        "for i, (mat, description) in enumerate(error_tests, len(test_cases)+1):\n",
        "    try:\n",
        "        unique_rows(mat)\n",
        "        unique_columns(mat)\n",
        "        print(f\"Test {i}: FAIL (case '{description}' should raise exception)\")\n",
        "    except (ValueError, TypeError, AttributeError) as e:\n",
        "        print(f\"Test {i}: OK (caught {type(e).__name__} for '{description}': {str(e)})\")\n",
        "    except Exception as e:\n",
        "        print(f\"Test {i}: FAIL (unexpected error for '{description}': {type(e).__name__}: {str(e)})\")"
      ],
      "metadata": {
        "id": "-8dEZhR0SBC-",
        "colab": {
          "base_uri": "https://localhost:8080/"
        },
        "outputId": "384b0041-ecba-4e0c-8d50-719ef3c6dbb2"
      },
      "execution_count": null,
      "outputs": [
        {
          "output_type": "stream",
          "name": "stdout",
          "text": [
            "Основные тесты:\n",
            "\n",
            "Test 1: Matrix shape: (4, 3)\n",
            "  Rows: OK\n",
            "    Row 0: got [1 2 3], expected [1 2 3]\n",
            "    Row 1: got [4 5], expected [4 5]\n",
            "    Row 2: got [1 2], expected [1 2]\n",
            "    Row 3: got [3], expected [3]\n",
            "  Columns: FAIL\n",
            "    Column 0: got [1 3 4], expected [1 3 4]\n",
            "    Column 1: got [1 2 3 5], expected [1 2 5]\n",
            "    Column 2: got [2 3 5], expected [2 3 5]\n",
            "\n",
            "Test 2: Matrix shape: (1, 1)\n",
            "  Rows: OK\n",
            "    Row 0: got [1], expected [1]\n",
            "  Columns: OK\n",
            "    Column 0: got [1], expected [1]\n",
            "\n",
            "Test 3: Matrix shape: (2, 2)\n",
            "  Rows: OK\n",
            "    Row 0: got [1], expected [1]\n",
            "    Row 1: got [1], expected [1]\n",
            "  Columns: OK\n",
            "    Column 0: got [1], expected [1]\n",
            "    Column 1: got [1], expected [1]\n",
            "\n",
            "Test 4: Matrix shape: (2, 2)\n",
            "  Rows: OK\n",
            "    Row 0: got [1 2], expected [1 2]\n",
            "    Row 1: got [3 4], expected [3 4]\n",
            "  Columns: OK\n",
            "    Column 0: got [1 3], expected [1 3]\n",
            "    Column 1: got [2 4], expected [2 4]\n",
            "\n",
            "Тесты на ошибки:\n",
            "Test 5: FAIL (case 'empty matrix' should raise exception)\n",
            "Test 6: OK (caught TypeError for 'invalid input type': iteration over a 0-d array)\n",
            "Test 7: OK (caught ValueError for 'ragged array': setting an array element with a sequence. The requested array has an inhomogeneous shape after 1 dimensions. The detected shape was (2,) + inhomogeneous part.)\n"
          ]
        }
      ]
    },
    {
      "cell_type": "markdown",
      "source": [
        "<h1>Задача 4. Напишите функцию, которая заполняет матрицу с размерами $(m, n)$ случайными числами, распределенными по нормальному закону. Затем считает мат. ожидание и дисперсию для каждого из столбцов и строк, а также строит для каждой строки и столбца гистограмму значений (использовать функцию hist из модуля matplotlib.plot)"
      ],
      "metadata": {
        "id": "roYAlo4Jz-lH"
      }
    },
    {
      "cell_type": "code",
      "source": [
        "def analyze_normal_matrix(m, n, mean=0, std=1):\n",
        "    matrix = np.random.normal(loc=mean, scale=std, size=(m, n))\n",
        "\n",
        "    row_means = np.mean(matrix, axis=1)\n",
        "    row_vars = np.var(matrix, axis=1)\n",
        "\n",
        "    col_means = np.mean(matrix, axis=0)\n",
        "    col_vars = np.var(matrix, axis=0)\n",
        "\n",
        "    plt.figure(figsize=(12, 8))\n",
        "    plots = []\n",
        "\n",
        "    plt.subplot(2, 1, 1)\n",
        "    for i in range(min(m, 5)):\n",
        "        plt.hist(matrix[i, :], alpha=0.5, label=f'Строка {i+1}')\n",
        "    plt.title('Гистограммы значений по строкам')\n",
        "    plt.legend()\n",
        "    plots.append('row_histograms')\n",
        "\n",
        "    plt.subplot(2, 1, 2)\n",
        "    for j in range(min(n, 5)):\n",
        "        plt.hist(matrix[:, j], alpha=0.5, label=f'Столбец {j+1}')\n",
        "    plt.title('Гистограммы значений по столбцам')\n",
        "    plt.legend()\n",
        "    plots.append('col_histograms')\n",
        "\n",
        "    plt.tight_layout()\n",
        "    plt.show()\n",
        "\n",
        "    result = {\n",
        "        'matrix': matrix,\n",
        "        'row_stats': {\n",
        "            'means': row_means,\n",
        "            'variances': row_vars\n",
        "        },\n",
        "        'col_stats': {\n",
        "            'means': col_means,\n",
        "            'variances': col_vars\n",
        "        },\n",
        "        'plots': plots\n",
        "    }\n",
        "\n",
        "    return result"
      ],
      "metadata": {
        "id": "nZK_71hMSQzv"
      },
      "execution_count": null,
      "outputs": []
    },
    {
      "cell_type": "markdown",
      "source": [
        "<h1>Задача 5. Напишите функцию, которая заполняет матрицу $(m, n)$ в шахматном порядке заданными числами $a$ и $b$. Напишите тесты для кода"
      ],
      "metadata": {
        "id": "BDyATNdM0dJ2"
      }
    },
    {
      "cell_type": "code",
      "source": [
        "import numpy as np\n",
        "\n",
        "def chess(m, n, a, b):\n",
        "    if m <= 0:\n",
        "        raise ValueError(\"m must be positive\")\n",
        "    if n <= 0:\n",
        "        raise ValueError(\"n must be positive\")\n",
        "\n",
        "    # Создаем матрицу, где каждый элемент равен (i+j) % 2\n",
        "    pattern = np.indices((m, n)).sum(axis=0) % 2\n",
        "    # Заменяем 0 на a, 1 на b\n",
        "    return np.where(pattern, b, a)\n",
        "\n",
        "# Основные тесты\n",
        "test_cases = [\n",
        "    # (m, n, a, b, expected)\n",
        "    (2, 2, 0, 1, np.array([[0, 1], [1, 0]])),\n",
        "    (3, 3, 1, -1, np.array([[1, -1, 1], [-1, 1, -1], [1, -1, 1]])),\n",
        "    (1, 5, 10, 20, np.array([[10, 20, 10, 20, 10]])),\n",
        "    (4, 1, 7, 3, np.array([[7], [3], [7], [3]])),\n",
        "    (3, 4, 'A', 'B', np.array([['A', 'B', 'A', 'B'],\n",
        "                              ['B', 'A', 'B', 'A'],\n",
        "                              ['A', 'B', 'A', 'B']], dtype='<U1')),\n",
        "]\n",
        "\n",
        "print(\"Основные тесты:\")\n",
        "for i, (m, n, a, b, expected) in enumerate(test_cases, 1):\n",
        "    try:\n",
        "        result = chess(m, n, a, b)\n",
        "        if np.array_equal(result, expected):\n",
        "            status = \"OK\"\n",
        "        else:\n",
        "            status = \"FAIL\"\n",
        "        print(f\"Test {i}: {status} (m={m}, n={n}, a={a}, b={b})\")\n",
        "        print(f\"Result:\\n{result}\\n\")\n",
        "    except Exception as e:\n",
        "        print(f\"Test {i}: FAIL (unexpected error: {str(e)}\")\n",
        "\n",
        "# Тесты на ошибки\n",
        "error_tests = [\n",
        "    (0, 5, 1, 2, \"m must be positive\"),\n",
        "    (5, 0, 1, 2, \"n must be positive\"),\n",
        "    (-2, 3, 1, 2, \"m must be positive\"),\n",
        "]\n",
        "\n",
        "print(\"\\nТесты на ошибки:\")\n",
        "for i, (m, n, a, b, expected_msg) in enumerate(error_tests, len(test_cases)+1):\n",
        "    try:\n",
        "        chess(m, n, a, b)\n",
        "        print(f\"Test {i}: FAIL (should raise ValueError for '{expected_msg}')\")\n",
        "    except ValueError as e:\n",
        "        if str(e) == expected_msg:\n",
        "            print(f\"Test {i}: OK (correctly raised: '{str(e)}')\")\n",
        "        else:\n",
        "            print(f\"Test {i}: FAIL (wrong error message: '{str(e)}', expected '{expected_msg}')\")\n",
        "    except Exception as e:\n",
        "        print(f\"Test {i}: FAIL (unexpected {type(e).__name__}: '{str(e)}')\")"
      ],
      "metadata": {
        "id": "RWNJYWQGecS6",
        "colab": {
          "base_uri": "https://localhost:8080/"
        },
        "outputId": "45ac2bac-7f66-42fc-b7e5-85b356f31298"
      },
      "execution_count": null,
      "outputs": [
        {
          "output_type": "stream",
          "name": "stdout",
          "text": [
            "Основные тесты:\n",
            "Test 1: OK (m=2, n=2, a=0, b=1)\n",
            "Result:\n",
            "[[0 1]\n",
            " [1 0]]\n",
            "\n",
            "Test 2: OK (m=3, n=3, a=1, b=-1)\n",
            "Result:\n",
            "[[ 1 -1  1]\n",
            " [-1  1 -1]\n",
            " [ 1 -1  1]]\n",
            "\n",
            "Test 3: OK (m=1, n=5, a=10, b=20)\n",
            "Result:\n",
            "[[10 20 10 20 10]]\n",
            "\n",
            "Test 4: OK (m=4, n=1, a=7, b=3)\n",
            "Result:\n",
            "[[7]\n",
            " [3]\n",
            " [7]\n",
            " [3]]\n",
            "\n",
            "Test 5: OK (m=3, n=4, a=A, b=B)\n",
            "Result:\n",
            "[['A' 'B' 'A' 'B']\n",
            " ['B' 'A' 'B' 'A']\n",
            " ['A' 'B' 'A' 'B']]\n",
            "\n",
            "\n",
            "Тесты на ошибки:\n",
            "Test 6: OK (correctly raised: 'm must be positive')\n",
            "Test 7: OK (correctly raised: 'n must be positive')\n",
            "Test 8: OK (correctly raised: 'm must be positive')\n"
          ]
        }
      ]
    },
    {
      "cell_type": "markdown",
      "source": [
        "<h1>Задача 6. Напишите функцию, которая отрисовывает прямоугольник с заданными размерами (a, b) на изображении размера (m, n), цвет фона задайте в схеме RGB, как и цвет прямоугольника. Цвета также должны быть параметрами функции. Напишите аналогичную функцию но для овала с полуосями a и b. Напишите тесты для кода.\n",
        "Примечание: уравнение эллипса (границы овала) можно записать как:\n",
        "<h1>$\\frac{(x-x_0)^2}{a^2}+\\frac{(y-y_0)^2}{b^2}=1$"
      ],
      "metadata": {
        "id": "-ymXLtTN0vB6"
      }
    },
    {
      "cell_type": "code",
      "source": [
        "def draw_rectangle(a, b, m, n, rectangle_color, background_color):\n",
        "    image = np.zeros((m, n, 3))\n",
        "    image[:, :] = background_color\n",
        "\n",
        "    x_start = (n - a) // 2\n",
        "    x_end = x_start + a\n",
        "    y_start = (m - b) // 2\n",
        "    y_end = y_start + b\n",
        "\n",
        "    image[y_start:y_end, x_start:x_end] = rectangle_color\n",
        "\n",
        "    return image\n",
        "\n",
        "def draw_ellipse(a, b, m, n, ellipse_color, background_color):\n",
        "    image = np.zeros((m, n, 3))\n",
        "    image[:, :] = background_color\n",
        "\n",
        "    x0, y0 = n // 2, m // 2\n",
        "\n",
        "    x = np.arange(n)\n",
        "    y = np.arange(m)\n",
        "    xx, yy = np.meshgrid(x, y)\n",
        "\n",
        "    ellipse = ((xx - x0)**2 / a**2 + (yy - y0)**2 / b**2) <= 1\n",
        "\n",
        "    image[ellipse] = ellipse_color\n",
        "\n",
        "    return image\n",
        "\n",
        "def visualize(image, title):\n",
        "    plt.figure()\n",
        "    plt.imshow(image)\n",
        "    plt.title(title)\n",
        "    plt.axis('off')\n",
        "    plt.show()\n",
        "\n",
        "def test_drawing_functions():\n",
        "    # Тест 1: Прямоугольник 4x6 на изображении 10x10\n",
        "    rect = draw_rectangle(4, 6, 10, 10, (255, 0, 0), (0, 0, 0))\n",
        "    visualize(rect, \"Test 1: Красный прямоугольник 4x6 на черном фоне\")\n",
        "\n",
        "    # Тест 2: Овал с полуосями 4 и 2 на изображении 10x10\n",
        "    ellipse = draw_ellipse(4, 2, 10, 10, (0, 255, 0), (0, 0, 0))\n",
        "    visualize(ellipse, \"Test 2: Зеленый овал 4x2 на черном фоне\")\n",
        "\n",
        "    # Тест 3: Прямоугольник на белом фоне\n",
        "    rect_white = draw_rectangle(3, 5, 8, 8, (0, 0, 255), (255, 255, 255))\n",
        "    visualize(rect_white, \"Test 3: Синий прямоугольник 3x5 на белом фоне\")\n",
        "\n",
        "    # Тест 4: Овал на синем фоне\n",
        "    ellipse_blue = draw_ellipse(3, 5, 10, 10, (255, 255, 0), (0, 0, 255))\n",
        "    visualize(ellipse_blue, \"Test 4: Желтый овал 3x5 на синем фоне\")\n",
        "\n",
        "    # Тест 5: Прямоугольник, занимающий все изображение\n",
        "    rect_full = draw_rectangle(10, 10, 10, 10, (255, 0, 255), (0, 0, 0))\n",
        "    visualize(rect_full, \"Test 5: Прямоугольник на все изображение\")\n",
        "\n",
        "    # Тест 6: Овал, почти занимающий все изображение\n",
        "    ellipse_large = draw_ellipse(9, 9, 10, 10, (0, 255, 255), (255, 0, 0))\n",
        "    visualize(ellipse_large, \"Test 6: Большой овал на красном фоне\")\n",
        "\n",
        "if __name__ == \"__main__\":\n",
        "    test_drawing_functions()"
      ],
      "metadata": {
        "id": "sNfl1t_kfOF4",
        "colab": {
          "base_uri": "https://localhost:8080/",
          "height": 1000
        },
        "outputId": "cc7997b5-241e-4b4f-ea31-895b1092eff2"
      },
      "execution_count": null,
      "outputs": [
        {
          "output_type": "stream",
          "name": "stderr",
          "text": [
            "WARNING:matplotlib.image:Clipping input data to the valid range for imshow with RGB data ([0..1] for floats or [0..255] for integers). Got range [0.0..255.0].\n"
          ]
        },
        {
          "output_type": "display_data",
          "data": {
            "text/plain": [
              "<Figure size 640x480 with 1 Axes>"
            ],
            "image/png": "[encoded data removed]"
          },
          "metadata": {}
        },
        {
          "output_type": "stream",
          "name": "stderr",
          "text": [
            "WARNING:matplotlib.image:Clipping input data to the valid range for imshow with RGB data ([0..1] for floats or [0..255] for integers). Got range [0.0..255.0].\n"
          ]
        },
        {
          "output_type": "display_data",
          "data": {
            "text/plain": [
              "<Figure size 640x480 with 1 Axes>"
            ],
            "image/png": "[encoded data removed]"
          },
          "metadata": {}
        },
        {
          "output_type": "stream",
          "name": "stderr",
          "text": [
            "WARNING:matplotlib.image:Clipping input data to the valid range for imshow with RGB data ([0..1] for floats or [0..255] for integers). Got range [0.0..255.0].\n"
          ]
        },
        {
          "output_type": "display_data",
          "data": {
            "text/plain": [
              "<Figure size 640x480 with 1 Axes>"
            ],
            "image/png": "[encoded data removed]"
          },
          "metadata": {}
        },
        {
          "output_type": "stream",
          "name": "stderr",
          "text": [
            "WARNING:matplotlib.image:Clipping input data to the valid range for imshow with RGB data ([0..1] for floats or [0..255] for integers). Got range [0.0..255.0].\n"
          ]
        },
        {
          "output_type": "display_data",
          "data": {
            "text/plain": [
              "<Figure size 640x480 with 1 Axes>"
            ],
            "image/png": "[encoded data removed]"
          },
          "metadata": {}
        },
        {
          "output_type": "stream",
          "name": "stderr",
          "text": [
            "WARNING:matplotlib.image:Clipping input data to the valid range for imshow with RGB data ([0..1] for floats or [0..255] for integers). Got range [0.0..255.0].\n"
          ]
        },
        {
          "output_type": "display_data",
          "data": {
            "text/plain": [
              "<Figure size 640x480 with 1 Axes>"
            ],
            "image/png": "[encoded data removed]"
          },
          "metadata": {}
        },
        {
          "output_type": "stream",
          "name": "stderr",
          "text": [
            "WARNING:matplotlib.image:Clipping input data to the valid range for imshow with RGB data ([0..1] for floats or [0..255] for integers). Got range [0.0..255.0].\n"
          ]
        },
        {
          "output_type": "display_data",
          "data": {
            "text/plain": [
              "<Figure size 640x480 with 1 Axes>"
            ],
            "image/png": "[encoded data removed]"
          },
          "metadata": {}
        }
      ]
    },
    {
      "cell_type": "markdown",
      "source": [
        "<h1>Задача 7. Дан некий временной ряд. Для данного ряда нужно найти его: математическое ожидание, дисперсию, СКО, найти все локальные максимумы и минимумы (локальный максимум - это точка, которая больше своих соседних точек, а локальный минимум - это точка, которая меньше своих соседей), а также вычислить для данного ряда другой ряд, получаемый методом скользящего среднего с размером окна $p$.\n",
        "<h1>Примечание: метод скользящего среднего подразумевает нахождение среднего из подмножетсва ряда размером $p$"
      ],
      "metadata": {
        "id": "S82c38oz244H"
      }
    },
    {
      "cell_type": "code",
      "source": [
        "import numpy as np\n",
        "\n",
        "def analyze_time_series(series, window_size=3):\n",
        "    series = np.array(series)\n",
        "    results = {}\n",
        "\n",
        "    results['mean'] = np.mean(series)\n",
        "\n",
        "    results['variance'] = np.var(series)\n",
        "\n",
        "    results['std_dev'] = np.std(series)\n",
        "\n",
        "    diff = np.diff(series)\n",
        "    maxima = []\n",
        "    minima = []\n",
        "\n",
        "    for i in range(1, len(series)-1):\n",
        "        if series[i] > series[i-1] and series[i] > series[i+1]:\n",
        "            maxima.append(i)\n",
        "        elif series[i] < series[i-1] and series[i] < series[i+1]:\n",
        "            minima.append(i)\n",
        "\n",
        "    results['local_maxima'] = np.array(maxima)\n",
        "    results['local_minima'] = np.array(minima)\n",
        "\n",
        "    if window_size % 2 == 0:\n",
        "        window_size += 1\n",
        "\n",
        "    pad_size = window_size // 2\n",
        "    padded = np.pad(series, (pad_size, pad_size), mode='edge')\n",
        "    moving_avg = np.convolve(padded, np.ones(window_size)/window_size, mode='valid')\n",
        "    results['moving_avg'] = moving_avg\n",
        "\n",
        "    return results"
      ],
      "metadata": {
        "id": "Zb9mIVge5MMt"
      },
      "execution_count": null,
      "outputs": []
    },
    {
      "cell_type": "markdown",
      "source": [
        "<h1> Задача 8. Дан некоторый вектор с целочисленными метками классов, напишите функцию, которая выполняет one-hot-encoding для данного вектора\n",
        "<h1> One-hot-encoding - представление, в котором на месте метки некоторого класса стоит 1, в остальных позициях стоит 0. Например для вектора [0, 2, 3, 0] one-hot-encoding выглядит как: [[1, 0, 0, 0], [0, 0, 1, 0], [0, 0, 0, 1], [1, 0, 0, 0]]"
      ],
      "metadata": {
        "id": "jPkylmOX5O9n"
      }
    },
    {
      "cell_type": "code",
      "source": [
        "def one_hot_encoding(labels):\n",
        "    labels = np.array(labels)\n",
        "    num_classes = np.max(labels) + 1\n",
        "    one_hot = np.zeros((len(labels), num_classes))\n",
        "    one_hot[np.arange(len(labels)), labels] = 1\n",
        "    return one_hot"
      ],
      "metadata": {
        "id": "Y-jlnZvw56lD"
      },
      "execution_count": null,
      "outputs": []
    }
  ]
}